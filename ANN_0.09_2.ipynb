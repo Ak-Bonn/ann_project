{
 "cells": [
  {
   "cell_type": "code",
   "execution_count": 1,
   "metadata": {},
   "outputs": [],
   "source": [
    "import numpy as np\n",
    "import pandas as pd\n",
    "import matplotlib.pyplot as plt"
   ]
  },
  {
   "cell_type": "code",
   "execution_count": 2,
   "metadata": {},
   "outputs": [
    {
     "name": "stdout",
     "output_type": "stream",
     "text": [
      "68636 29413\n"
     ]
    }
   ],
   "source": [
    "train_data = pd.read_csv('train.csv')\n",
    "test_data = pd.read_csv('test.csv')[:-1]\n",
    "print(len(train_data), len(test_data))\n",
    "\n",
    "train= train_data\n",
    "test = test_data.apply(pd.to_numeric)"
   ]
  },
  {
   "cell_type": "code",
   "execution_count": null,
   "metadata": {},
   "outputs": [],
   "source": [
    "X = train.drop(\"signal\", axis=1)\n",
    "X = (X-X.mean())/X.std()\n",
    "train = X.join(train[\"signal\"])\n",
    "\n",
    "XX = test.drop(\"signal\", axis=1)\n",
    "XX = (XX-XX.mean())/XX.std()\n",
    "test = XX.join(test[\"signal\"])"
   ]
  },
  {
   "cell_type": "code",
   "execution_count": 3,
   "metadata": {},
   "outputs": [
    {
     "data": {
      "text/plain": [
       "{'missing_energy_phi': 0.003254063696343179,\n",
       " 'lepton_phi': 0.005250537605601402,\n",
       " 'jet1phi': 0.006744408012343661,\n",
       " 'jet3phi': 0.007694254995927352,\n",
       " 'jet4phi': 0.008105746088170163,\n",
       " 'jet2phi': 0.008137114722488237,\n",
       " 'm_lv': 0.010386893995635749,\n",
       " 'lepton_eta': 0.010518898163357937,\n",
       " 'jet1b.tag': 0.012580087397600026,\n",
       " 'jet3pt': 0.012693279584993333,\n",
       " 'jet1eta': 0.014007216717948245,\n",
       " 'jet3eta': 0.014504340101392843,\n",
       " 'jet4b.tag': 0.015875851281828557,\n",
       " 'jet2eta': 0.0173633309139285,\n",
       " 'm_jj': 0.017681132670639033,\n",
       " 'jet4eta': 0.019486671326037097,\n",
       " 'jet3b.tag': 0.02494816071865935,\n",
       " 'jet2pt': 0.02846273239147512,\n",
       " 'jet4pt': 0.030942537809816595,\n",
       " 'lepton_pT': 0.03858265522652582,\n",
       " 'jet2b.tag': 0.049864347970956235,\n",
       " 'm_jlv': 0.05341320850942499,\n",
       " 'jet1pt': 0.06990101266799159,\n",
       " 'missing_energy_magnitude': 0.07262518556598518,\n",
       " 'm_jjj': 0.09632140613997875,\n",
       " 'm_wbb': 0.1070652762675185,\n",
       " 'm_wwbb': 0.1517473764300511,\n",
       " 'm_bb': 0.1960046638615971,\n",
       " 'signal': 1.0}"
      ]
     },
     "execution_count": 3,
     "metadata": {},
     "output_type": "execute_result"
    }
   ],
   "source": [
    "from scipy.stats import ks_2samp\n",
    "train_stat, train_p = [], []\n",
    "\n",
    "for i in range(len(train.keys())-1):\n",
    "    train_stat = np.append(train_stat,ks_2samp(train.query('signal==0')[train.keys()[i]],train.query('signal==1')[train.keys()[i]])[0])\n",
    "    train_p = np.append(train_stat,ks_2samp(train.query('signal==0')[train.keys()[i]],train.query('signal==1')[train.keys()[i]])[1])\n",
    "\n",
    "\n",
    "train_list = dict(zip(train.keys()[:-1],train_stat))\n",
    "train_list_sorted = dict(sorted(train_list.items(), key=lambda item: item[1]))\n",
    "train_list_sorted\n"
   ]
  },
  {
   "cell_type": "code",
   "execution_count": 4,
   "metadata": {},
   "outputs": [],
   "source": [
    "def act_f(xvals):\n",
    "    return 1/(1+np.exp(-xvals))\n",
    "    #return np.exp(-xvals**2)\n",
    "    \n",
    "def f_cost(y, xvals):\n",
    "    return (1/2) * (y - xvals)**2\n",
    "\n",
    "def der_f_act(xvals):\n",
    "    return np.exp(-xvals)/(1+np.exp(-xvals))**2\n",
    "    #return -2*xvals*np.exp(-xvals**2)\n",
    "    \n",
    "def der_f_cost(y, xvals):\n",
    "    return -(y - xvals)"
   ]
  },
  {
   "cell_type": "code",
   "execution_count": 106,
   "metadata": {},
   "outputs": [],
   "source": [
    "#np.random.seed(12)\n",
    "def bias_vector(n_nodes):\n",
    "    return np.array(np.random.uniform(-1,1,n_nodes))\n",
    "    #return np.ones(n_nodes)\n",
    "\n",
    "def initialize_all_bias(n_hidden_nodes,n_hidden_layers):\n",
    "    all_bias_nodes = []\n",
    "    for _ in range(n_hidden_layers):\n",
    "        all_bias_nodes.append(bias_vector(n_hidden_nodes))\n",
    "    all_bias_nodes.append(bias_vector(1))\n",
    "    \n",
    "    return all_bias_nodes\n",
    "    \n",
    "def init_weight_mat(n_next,n_previous):\n",
    "    #return np.array(np.random.uniform(-1,1,[n_next,n_previous]))\n",
    "    return np.array(np.random.uniform(-np.sqrt(6/(n_previous+n_next)),np.sqrt(6/(n_previous+n_next)),[n_next,n_previous]))\n",
    "    #return np.ones([n_next,n_previous])\n",
    "\n",
    "\n",
    "def initialize_all_weight_matrices(n_input_features, n_hidden_nodes, n_hidden_layers):\n",
    "    \n",
    "    list_of_nodes = [n_input_features]\n",
    "    for _ in range(n_hidden_layers):\n",
    "        list_of_nodes.append(n_hidden_nodes)\n",
    "    list_of_nodes.append(1)\n",
    "    \n",
    "    all_weight_matrices = []\n",
    "    for i in range(len(list_of_nodes)-1):\n",
    "        all_weight_matrices.append(init_weight_mat(list_of_nodes[i+1],list_of_nodes[i]))\n",
    "\n",
    "    #[number of inputs][number of hidden nodes][number of input layers]\n",
    "    return all_weight_matrices\n",
    "\n",
    "def input_sum(weights, inputs, bias):\n",
    "    return np.dot(weights,inputs) + bias\n",
    "\n"
   ]
  },
  {
   "cell_type": "code",
   "execution_count": 107,
   "metadata": {},
   "outputs": [],
   "source": [
    "def forward_prop(input_features, n_hidden_nodes, n_hidden_layers, weight_list_dummy, bias_list_dummy):\n",
    "\n",
    "    \n",
    "    x_list = input_features\n",
    "    z_list, act_z_list = [], []\n",
    "\n",
    "    for layer in range(len(weight_list_dummy)):\n",
    "        \n",
    "        z_list.append((np.dot(weight_list_dummy[layer], x_list).transpose() + bias_list_dummy[layer]).transpose())\n",
    "        act_z_list.append(act_f(np.dot(weight_list_dummy[layer], x_list).transpose() + bias_list_dummy[layer]).transpose())\n",
    "\n",
    "        x_list = act_z_list[-1]\n",
    "    act_z_list.insert(0,np.array(input_features))\n",
    "    \n",
    "    \n",
    "    \n",
    "    # for 1st two vars :[# var][layer number][node number][data number]            \n",
    "    return z_list, act_z_list, weight_list_dummy, bias_list_dummy"
   ]
  },
  {
   "cell_type": "code",
   "execution_count": 108,
   "metadata": {},
   "outputs": [],
   "source": [
    "# function to initialize errors for each node (set to 0 at start)\n",
    "def initialize_node_error(n_hidden_nodes,n_hidden_layers):\n",
    "    all_nodes = []\n",
    "    for _ in range(n_hidden_layers):\n",
    "        all_nodes.append([0] * n_hidden_nodes)\n",
    "    all_nodes.append([0])\n",
    "    \n",
    "    return all_nodes\n",
    "    \n",
    "def back_prop(true_values, z_list, act_z_list, weight_list, bias_list, input_features, lambda_reg):\n",
    "    \n",
    "    cost_cal = np.sum(f_cost(true_values, act_z_list[-1]))\n",
    "    output_error = der_f_cost(true_values, act_z_list[-1][0]) \n",
    "    lrate = 2 / len(true_values)\n",
    "    \n",
    "    # to store weights...\n",
    "    #weight_epochs, bias_epochs = []\n",
    "    #weight_epochs.append(weight_list)\n",
    "    #bias_epochs.append(bias_list)\n",
    "    \n",
    "    # np.shape(weight_list[1])[1] = no. of hidden nodes\n",
    "    # len(weight_list[:-1]) = no. of hidden layers\n",
    "    \n",
    "    error_node_matrix = initialize_node_error(np.shape(weight_list[-1])[1], len(weight_list[:-1]))\n",
    "\n",
    "    error_node_matrix[-1][0] = output_error * der_f_act(z_list[-1][0])\n",
    "\n",
    "    for layer in range(len(weight_list)-1,0,-1): \n",
    "        \n",
    "        for node in range(np.shape(weight_list[layer])[1]):\n",
    "            \n",
    "            for each_weight in range(np.shape(weight_list[layer][0])[0]): \n",
    "                \n",
    "                if layer==len(weight_list)-1:\n",
    " \n",
    "                    error_node_matrix[layer-1][node] +=( weight_list[layer][0][each_weight] * \n",
    "                                                      error_node_matrix[layer][0] * \n",
    "                                                      der_f_act(z_list[layer-1][node]) )\n",
    "                    \n",
    "                if layer<len(weight_list)-1:\n",
    "                \n",
    "                    error_node_matrix[layer-1][node] +=( weight_list[layer][each_weight][node] * \n",
    "                                                      error_node_matrix[layer][each_weight] * \n",
    "                                                      der_f_act(z_list[layer-1][node]) )\n",
    " \n",
    "    \n",
    "    for layer in range(len(weight_list)):    \n",
    "        \n",
    "        for node in range(np.shape(weight_list[-layer-1])[0]):\n",
    "            \n",
    "            for each_weight in range(np.shape(weight_list[-layer-1][node])[0]):\n",
    "                    \n",
    "                if layer!=(len(weight_list)-1):\n",
    "                    \n",
    "                    weight_list[-layer-1][node][each_weight] -= np.sum(lrate * act_z_list[-layer-2][each_weight] *\n",
    "                                                          error_node_matrix[-layer-1][node])\n",
    "                    \n",
    "                if layer==(len(weight_list)-1):\n",
    "                    #weight_list[-layer-1][node][each_weight] -= np.sum(lrate * input_features[each_weight] *\n",
    "                    #                                      error_node_matrix[-layer-1][node]) \n",
    "                    \n",
    "                    weight_list[-layer-1][node][each_weight] -= (np.sum(lrate * input_features[each_weight] *\n",
    "                                                          error_node_matrix[-layer-1][node]) \n",
    "                                                    + lambda_reg * lrate * weight_list[-layer-1][node][each_weight])                    \n",
    "                \n",
    "                bias_list[-layer-1][node] -=  np.sum(lrate * error_node_matrix[-layer-1][node])\n",
    "                    \n",
    "    \n",
    "    return weight_list, bias_list, cost_cal\n",
    "\n",
    "def train_network(input_features, n_hidden_nodes, n_hidden_layers, true_values,epochs, lambda_reg):\n",
    "    \n",
    "    print(\"Will run upto:\", epochs)\n",
    "    \n",
    "    weight_list = initialize_all_weight_matrices(len(input_features), n_hidden_nodes, n_hidden_layers)\n",
    "    bias_list = initialize_all_bias( n_hidden_nodes, n_hidden_layers)\n",
    "    cost_all = np.array([])\n",
    "    for epochs_i in range(epochs):\n",
    "        z_list_i, act_z_list_i, weight_list_i, bias_list_i = forward_prop(input_features, n_hidden_nodes, \n",
    "                                                                          n_hidden_layers, weight_list, bias_list)\n",
    "        \n",
    "        weights_updated, bias_updated, cost_dum = back_prop(true_values, z_list_i, act_z_list_i, weight_list_i, \n",
    "                                                  bias_list_i, input_features, lambda_reg)\n",
    "        weight_list_i = weights_updated\n",
    "        bias_list_i = bias_updated\n",
    "        \n",
    "        cost_all = np.append(cost_all,cost_dum)\n",
    "        print(epochs_i+1, end=\" \")\n",
    "        \n",
    "        \n",
    "    return weights_updated, bias_updated, cost_all"
   ]
  },
  {
   "cell_type": "code",
   "execution_count": 111,
   "metadata": {
    "scrolled": true
   },
   "outputs": [
    {
     "name": "stdout",
     "output_type": "stream",
     "text": [
      "Will run upto: 2000\n"
     ]
    },
    {
     "name": "stdout",
     "output_type": "stream",
     "text": [
      "1 2 3 4 5 6 7 8 9 10 11 12 13 14 15 16 17 18 19 20 21 22 23 24 25 26 27 28 29 30 31 32 33 34 35 36 37 38 39 40 41 42 43 44 45 46 47 48 49 50 51 52 53 54 55 56 57 58 59 60 61 62 63 64 65 66 67 68 69 70 71 72 73 74 75 76 77 78 79 80 81 82 83 84 85 86 87 88 89 90 91 92 93 94 95 96 97 98 99 100 101 102 103 104 105 106 107 108 109 110 111 112 113 114 115 116 117 118 119 120 121 122 123 124 125 126 127 128 129 130 131 132 133 134 135 136 137 138 139 140 141 142 143 144 145 146 147 148 149 150 151 152 153 154 155 156 157 158 159 160 161 162 163 164 165 166 167 168 169 170 171 172 173 174 175 176 177 178 179 180 181 182 183 184 185 186 187 188 189 190 191 192 193 194 195 196 197 198 199 200 201 202 203 204 205 206 207 208 209 210 211 212 213 214 215 216 217 218 219 220 221 222 223 224 225 226 227 228 229 230 231 232 233 234 235 236 237 238 239 240 241 242 243 244 245 246 247 248 249 250 251 252 253 254 255 256 257 258 259 260 261 262 263 264 265 266 267 268 269 270 271 272 273 274 275 276 277 278 279 280 281 282 283 284 285 286 287 288 289 290 291 292 293 294 295 296 297 298 299 300 301 302 303 304 305 306 307 308 309 310 311 312 313 314 315 316 317 318 319 320 321 322 323 324 325 326 327 328 329 330 331 332 333 334 335 336 337 338 339 340 341 342 343 344 345 346 347 348 349 350 351 352 353 354 355 356 357 358 359 360 361 362 363 364 365 366 367 368 369 370 371 372 373 374 375 376 377 378 379 380 381 382 383 384 385 386 387 388 389 390 391 392 393 394 395 396 397 398 399 400 401 402 403 404 405 406 407 408 409 410 411 412 413 414 415 416 417 418 419 420 421 422 423 424 425 426 427 428 429 430 431 432 433 434 435 436 437 438 439 440 441 442 443 444 445 446 447 448 449 450 451 452 453 454 455 456 457 458 459 460 461 462 463 464 465 466 467 468 469 470 471 472 473 474 475 476 477 478 479 480 481 482 483 484 485 486 487 488 489 490 491 492 493 494 495 496 497 498 499 500 501 502 503 504 505 506 507 508 509 510 511 512 513 514 515 516 517 518 519 520 521 522 523 524 525 526 527 528 529 530 531 532 533 534 535 536 537 538 539 540 541 542 543 544 545 546 547 548 549 550 551 552 553 554 555 556 557 558 559 560 561 562 563 564 565 566 567 568 569 570 571 572 573 574 575 576 577 578 579 580 581 582 583 584 585 586 587 588 589 590 591 592 593 594 595 596 597 598 599 600 601 602 603 604 605 606 607 608 609 610 611 612 613 614 615 616 617 618 619 620 621 622 623 624 625 626 627 628 629 630 631 632 633 634 635 636 637 638 639 640 641 642 643 644 645 646 647 648 649 650 651 652 653 654 655 656 657 658 659 660 661 662 663 664 665 666 667 668 669 670 671 672 673 674 675 676 677 678 679 680 681 682 683 684 685 686 687 688 689 690 691 692 693 694 695 696 697 698 699 700 701 702 703 704 705 706 707 708 709 710 711 712 713 714 715 716 717 718 719 720 721 722 723 724 725 726 727 728 729 730 731 732 733 734 735 736 737 738 739 740 741 742 743 744 745 746 747 748 749 750 751 752 753 754 755 756 757 758 759 760 761 762 763 764 765 766 767 768 769 770 771 772 773 774 775 776 777 778 779 780 781 782 783 784 785 786 787 788 789 790 791 792 793 794 795 796 797 798 799 800 801 802 803 804 805 806 807 808 809 810 811 812 813 814 815 816 817 818 819 820 821 822 823 824 825 826 827 828 829 830 831 832 833 834 835 836 837 838 839 840 841 842 843 844 845 846 847 848 849 850 851 852 853 854 855 856 857 858 859 860 861 862 863 864 865 866 867 868 869 870 871 872 873 874 875 876 877 878 879 880 881 882 883 884 885 886 887 888 889 890 891 892 893 894 895 896 897 898 899 900 901 902 903 904 905 906 907 908 909 910 911 912 913 914 915 916 917 918 919 920 921 922 923 924 925 926 927 928 929 930 931 932 933 934 935 936 937 938 939 940 941 942 943 944 945 946 947 948 949 950 951 952 953 954 955 956 957 958 959 960 961 962 963 964 965 966 967 968 969 970 971 972 973 974 975 976 977 978 979 980 981 982 983 984 985 986 987 988 989 990 991 992 993 994 995 996 997 998 999 1000 1001 1002 1003 1004 1005 1006 1007 1008 1009 1010 1011 1012 1013 1014 1015 1016 1017 1018 1019 1020 1021 1022 1023 1024 1025 1026 1027 1028 1029 1030 1031 1032 1033 1034 1035 1036 1037 1038 1039 1040 1041 1042 1043 1044 1045 1046 1047 1048 1049 1050 1051 1052 1053 1054 1055 1056 1057 1058 1059 1060 1061 1062 1063 1064 1065 1066 1067 1068 1069 1070 1071 1072 1073 1074 1075 1076 1077 1078 1079 1080 1081 1082 1083 1084 1085 1086 1087 1088 1089 1090 1091 1092 1093 1094 1095 1096 1097 1098 1099 1100 1101 1102 1103 1104 1105 1106 1107 1108 1109 1110 1111 1112 1113 1114 1115 1116 1117 1118 1119 1120 1121 1122 1123 1124 1125 1126 1127 1128 1129 1130 1131 1132 1133 1134 1135 1136 1137 1138 1139 1140 1141 1142 1143 1144 1145 1146 1147 1148 1149 1150 1151 1152 1153 1154 1155 1156 1157 1158 1159 1160 1161 1162 1163 1164 1165 1166 1167 1168 1169 1170 1171 1172 1173 1174 1175 1176 1177 1178 1179 1180 1181 1182 1183 1184 1185 1186 1187 1188 1189 1190 1191 1192 1193 1194 1195 1196 1197 1198 1199 1200 1201 1202 1203 1204 1205 1206 1207 1208 1209 1210 1211 1212 1213 1214 1215 1216 1217 1218 1219 1220 1221 1222 1223 1224 1225 1226 1227 1228 1229 1230 1231 1232 1233 1234 1235 1236 1237 1238 1239 1240 1241 1242 1243 1244 1245 1246 1247 1248 1249 1250 1251 1252 1253 1254 1255 1256 1257 1258 1259 1260 1261 1262 1263 1264 1265 1266 1267 1268 1269 1270 1271 1272 1273 1274 1275 1276 1277 1278 1279 1280 1281 1282 1283 1284 1285 1286 1287 1288 1289 1290 1291 1292 1293 1294 1295 1296 1297 1298 1299 1300 1301 1302 1303 1304 1305 1306 1307 1308 1309 1310 1311 1312 1313 1314 1315 1316 1317 1318 1319 1320 1321 1322 1323 1324 1325 1326 1327 1328 1329 1330 1331 1332 1333 1334 1335 1336 1337 1338 1339 1340 1341 1342 1343 1344 1345 1346 1347 1348 1349 1350 1351 1352 1353 1354 1355 1356 1357 1358 1359 1360 1361 1362 1363 1364 1365 1366 1367 1368 1369 1370 1371 1372 1373 1374 1375 1376 1377 1378 1379 1380 1381 1382 1383 1384 1385 1386 1387 1388 1389 1390 1391 1392 1393 1394 1395 1396 1397 1398 1399 1400 1401 1402 1403 1404 1405 1406 1407 1408 1409 1410 1411 1412 1413 1414 1415 1416 1417 1418 1419 1420 1421 1422 1423 1424 1425 1426 1427 1428 1429 1430 1431 1432 1433 1434 1435 1436 1437 1438 1439 1440 1441 1442 1443 1444 1445 1446 1447 1448 1449 1450 1451 1452 1453 1454 1455 1456 1457 1458 1459 1460 1461 1462 1463 1464 1465 1466 1467 1468 1469 1470 1471 1472 1473 1474 1475 1476 1477 1478 1479 1480 1481 1482 1483 1484 1485 1486 1487 1488 1489 1490 1491 1492 1493 1494 1495 1496 1497 1498 1499 1500 1501 1502 1503 1504 1505 1506 1507 1508 1509 1510 1511 1512 1513 1514 1515 1516 1517 1518 1519 1520 1521 1522 1523 1524 1525 1526 1527 1528 1529 1530 1531 1532 1533 1534 1535 1536 1537 1538 1539 1540 1541 1542 1543 1544 1545 1546 1547 1548 1549 1550 1551 1552 1553 1554 1555 1556 1557 1558 1559 1560 1561 1562 1563 1564 1565 1566 1567 1568 1569 1570 1571 1572 1573 1574 1575 1576 1577 1578 1579 1580 1581 1582 1583 1584 1585 1586 1587 1588 1589 1590 1591 1592 1593 1594 1595 1596 1597 1598 1599 1600 1601 1602 1603 1604 1605 1606 1607 1608 1609 1610 1611 1612 1613 1614 1615 1616 1617 1618 1619 1620 1621 1622 1623 1624 1625 1626 1627 1628 1629 1630 1631 1632 1633 1634 1635 1636 1637 1638 1639 1640 1641 1642 1643 1644 1645 1646 1647 1648 1649 1650 1651 1652 1653 1654 1655 1656 1657 1658 1659 1660 1661 1662 1663 1664 1665 1666 1667 1668 1669 1670 1671 1672 1673 1674 1675 1676 1677 1678 1679 1680 1681 1682 1683 1684 1685 1686 1687 1688 1689 1690 1691 1692 1693 1694 1695 1696 1697 1698 1699 1700 1701 1702 1703 1704 1705 1706 1707 1708 1709 1710 1711 1712 1713 1714 1715 1716 1717 1718 1719 1720 1721 1722 1723 1724 1725 1726 1727 1728 1729 1730 1731 1732 1733 1734 1735 1736 1737 1738 1739 1740 1741 1742 1743 1744 1745 1746 1747 1748 1749 1750 1751 1752 1753 1754 1755 1756 1757 1758 1759 1760 1761 1762 1763 1764 1765 1766 1767 1768 1769 1770 1771 1772 1773 1774 1775 1776 1777 1778 1779 1780 1781 1782 1783 1784 1785 1786 1787 1788 1789 1790 1791 1792 1793 1794 1795 1796 1797 1798 1799 1800 1801 1802 1803 1804 1805 1806 1807 1808 1809 1810 1811 1812 1813 1814 1815 1816 1817 1818 1819 1820 1821 1822 1823 1824 1825 1826 1827 1828 1829 1830 1831 1832 1833 1834 1835 1836 1837 1838 1839 1840 1841 1842 1843 1844 1845 1846 1847 1848 1849 1850 1851 1852 1853 1854 1855 1856 1857 1858 1859 1860 1861 1862 1863 "
     ]
    },
    {
     "name": "stdout",
     "output_type": "stream",
     "text": [
      "1864 1865 1866 1867 1868 1869 1870 1871 1872 1873 1874 1875 1876 1877 1878 1879 1880 1881 1882 1883 1884 1885 1886 1887 1888 1889 1890 1891 1892 1893 1894 1895 1896 1897 1898 1899 1900 1901 1902 1903 1904 1905 1906 1907 1908 1909 1910 1911 1912 1913 1914 1915 1916 1917 1918 1919 1920 1921 1922 1923 1924 1925 1926 1927 1928 1929 1930 1931 1932 1933 1934 1935 1936 1937 1938 1939 1940 1941 1942 1943 1944 1945 1946 1947 1948 1949 1950 1951 1952 1953 1954 1955 1956 1957 1958 1959 1960 1961 1962 1963 1964 1965 1966 1967 1968 1969 1970 1971 1972 1973 1974 1975 1976 1977 1978 1979 1980 1981 1982 1983 1984 1985 1986 1987 1988 1989 1990 1991 1992 1993 1994 1995 1996 1997 1998 1999 2000 "
     ]
    }
   ],
   "source": [
    "#d_index = 5\n",
    "#input_vector = np.array([train['m_bb'][:d_index],train['m_wwbb'][:d_index],train['m_wbb'][:d_index]])\n",
    "input_vector = np.array([train['m_bb'],train['m_wwbb'],train['m_wbb']])\n",
    "#true_vector = np.array(train['signal'][:d_index])\n",
    "true_vector = np.array(train['signal'])\n",
    "\n",
    "all_arr = train_network(input_vector,5,1,true_vector,2000, lambda_reg = 0)\n",
    "\n"
   ]
  },
  {
   "cell_type": "code",
   "execution_count": 112,
   "metadata": {},
   "outputs": [
    {
     "data": {
      "image/png": "[encoded data removed]",
      "text/plain": [
       "<Figure size 432x288 with 1 Axes>"
      ]
     },
     "metadata": {
      "needs_background": "light"
     },
     "output_type": "display_data"
    }
   ],
   "source": [
    "plt.scatter(np.arange(0,len(all_arr[2]),1),all_arr[2])\n",
    "plt.show()"
   ]
  },
  {
   "cell_type": "code",
   "execution_count": 90,
   "metadata": {},
   "outputs": [
    {
     "data": {
      "image/png": "[encoded data removed]",
      "text/plain": [
       "<Figure size 432x288 with 1 Axes>"
      ]
     },
     "metadata": {
      "needs_background": "light"
     },
     "output_type": "display_data"
    }
   ],
   "source": [
    "plt.scatter(np.arange(0,len(all_arr[2]),1),all_arr[2])\n",
    "plt.show()"
   ]
  },
  {
   "cell_type": "code",
   "execution_count": 113,
   "metadata": {},
   "outputs": [],
   "source": [
    "def test_network(input_test_vector, weights_trained, bias_trained):\n",
    "    \n",
    "    x_test_list = input_test_vector\n",
    "    z_test_list, act_z_test_list = [], []     \n",
    "    for layer in range(len(weights_trained)):\n",
    "\n",
    "        z_test_list.append((np.dot(weights_trained[layer], x_test_list).transpose() + bias_trained[layer]).transpose())\n",
    "        act_z_test_list.append(act_f(np.dot(weights_trained[layer], x_test_list).transpose() + bias_trained[layer]).transpose())\n",
    "\n",
    "        x_test_list = act_z_test_list[-1]\n",
    "    act_z_test_list.insert(0,np.array(input_test_vector))\n",
    "    \n",
    "    # for 1st two vars :[# var][layer number][node number][data number]            \n",
    "#    return z_test_list, act_z_test_list\n",
    "    return act_z_test_list[-1][0]\n",
    "\n",
    "\n"
   ]
  },
  {
   "cell_type": "code",
   "execution_count": 114,
   "metadata": {},
   "outputs": [],
   "source": [
    "test_vector = np.array([test['m_bb'],test['m_wwbb'],test['m_wbb']])\n",
    "\n",
    "test_output = test_network(test_vector,all_arr[0],all_arr[1])"
   ]
  },
  {
   "cell_type": "code",
   "execution_count": 115,
   "metadata": {},
   "outputs": [
    {
     "data": {
      "image/png": "[encoded data removed]",
      "text/plain": [
       "<Figure size 432x288 with 1 Axes>"
      ]
     },
     "metadata": {
      "needs_background": "light"
     },
     "output_type": "display_data"
    }
   ],
   "source": [
    "plt.hist(test_output,bins='auto')\n",
    "\n",
    "plt.show()"
   ]
  },
  {
   "cell_type": "code",
   "execution_count": null,
   "metadata": {},
   "outputs": [],
   "source": []
  },
  {
   "cell_type": "code",
   "execution_count": 116,
   "metadata": {},
   "outputs": [
    {
     "name": "stdout",
     "output_type": "stream",
     "text": [
      "ROC score for  m_bb 0.5538334386750075\n",
      "ROC score for  m_wwbb 0.567830783780928\n",
      "ROC score for  m_wbb 0.5171133577631016\n",
      "ROC score for  ANN output 0.706529813502885\n"
     ]
    },
    {
     "data": {
      "image/png": "[encoded data removed]",
      "text/plain": [
       "<Figure size 432x288 with 1 Axes>"
      ]
     },
     "metadata": {
      "needs_background": "light"
     },
     "output_type": "display_data"
    },
    {
     "data": {
      "text/plain": [
       "0.706529813502885"
      ]
     },
     "execution_count": 116,
     "metadata": {},
     "output_type": "execute_result"
    }
   ],
   "source": [
    "feats = ['m_bb','m_wwbb','m_wbb']#,'m_jjj']\n",
    "\n",
    "from sklearn.metrics import roc_curve, roc_auc_score, auc\n",
    "\n",
    "def left_right_ordered_feature(sample, f):\n",
    "    mean_sig = np.mean(sample[f][sample[\"signal\"] == 1])\n",
    "    mean_bkg = np.mean(sample[f][sample[\"signal\"] == 0])\n",
    "    if mean_bkg < mean_sig:\n",
    "        return sample[f]\n",
    "    else:\n",
    "        return -sample[f]\n",
    "\n",
    "for label,value in [(f, left_right_ordered_feature(test, f)) for f in feats]+[(\"ANN output\", test_output)]:\n",
    "    fpr, tpr, thresh = roc_curve(test[\"signal\"], value)\n",
    "    \n",
    "    #plt.plot(tpr, 1-fpr, label=label)\n",
    "    plt.plot(fpr, tpr, label=label)\n",
    "    print(\"ROC score for \",label,roc_auc_score(test[\"signal\"], value))\n",
    "\n",
    "plt.xlim(0,1)\n",
    "plt.ylim(0,1)\n",
    "#plt.xlabel('signal efficiency')\n",
    "plt.xlabel('FPR')\n",
    "#plt.ylabel('background rejection')\n",
    "plt.ylabel('TPR')\n",
    "plt.legend(bbox_to_anchor=(1,1), loc=\"upper left\");\n",
    "plt.show()\n",
    "\n",
    "auc(fpr,tpr)"
   ]
  },
  {
   "cell_type": "code",
   "execution_count": 117,
   "metadata": {},
   "outputs": [
    {
     "data": {
      "text/html": [
       "<div>\n",
       "<style scoped>\n",
       "    .dataframe tbody tr th:only-of-type {\n",
       "        vertical-align: middle;\n",
       "    }\n",
       "\n",
       "    .dataframe tbody tr th {\n",
       "        vertical-align: top;\n",
       "    }\n",
       "\n",
       "    .dataframe thead th {\n",
       "        text-align: right;\n",
       "    }\n",
       "</style>\n",
       "<table border=\"1\" class=\"dataframe\">\n",
       "  <thead>\n",
       "    <tr style=\"text-align: right;\">\n",
       "      <th></th>\n",
       "      <th>signal</th>\n",
       "      <th>lepton_pT</th>\n",
       "      <th>lepton_eta</th>\n",
       "      <th>lepton_phi</th>\n",
       "      <th>missing_energy_magnitude</th>\n",
       "      <th>missing_energy_phi</th>\n",
       "      <th>jet1pt</th>\n",
       "      <th>jet1eta</th>\n",
       "      <th>jet1phi</th>\n",
       "      <th>jet1b.tag</th>\n",
       "      <th>...</th>\n",
       "      <th>jet4phi</th>\n",
       "      <th>jet4b.tag</th>\n",
       "      <th>m_jj</th>\n",
       "      <th>m_jjj</th>\n",
       "      <th>m_lv</th>\n",
       "      <th>m_jlv</th>\n",
       "      <th>m_bb</th>\n",
       "      <th>m_wbb</th>\n",
       "      <th>m_wwbb</th>\n",
       "      <th>id</th>\n",
       "    </tr>\n",
       "  </thead>\n",
       "  <tbody>\n",
       "    <tr>\n",
       "      <th>0</th>\n",
       "      <td>1</td>\n",
       "      <td>1.105009</td>\n",
       "      <td>0.321356</td>\n",
       "      <td>1.522401</td>\n",
       "      <td>0.882808</td>\n",
       "      <td>-1.205349</td>\n",
       "      <td>0.681466</td>\n",
       "      <td>-1.070464</td>\n",
       "      <td>-0.921871</td>\n",
       "      <td>0.000000</td>\n",
       "      <td>...</td>\n",
       "      <td>0.113041</td>\n",
       "      <td>0.000000</td>\n",
       "      <td>0.755856</td>\n",
       "      <td>1.361057</td>\n",
       "      <td>0.986610</td>\n",
       "      <td>0.838085</td>\n",
       "      <td>1.133295</td>\n",
       "      <td>0.872245</td>\n",
       "      <td>0.808487</td>\n",
       "      <td>68637</td>\n",
       "    </tr>\n",
       "    <tr>\n",
       "      <th>1</th>\n",
       "      <td>1</td>\n",
       "      <td>1.176566</td>\n",
       "      <td>0.104161</td>\n",
       "      <td>1.397002</td>\n",
       "      <td>0.479721</td>\n",
       "      <td>0.265513</td>\n",
       "      <td>1.135563</td>\n",
       "      <td>1.534831</td>\n",
       "      <td>-0.253291</td>\n",
       "      <td>0.000000</td>\n",
       "      <td>...</td>\n",
       "      <td>0.530334</td>\n",
       "      <td>0.000000</td>\n",
       "      <td>0.833175</td>\n",
       "      <td>0.773968</td>\n",
       "      <td>0.985750</td>\n",
       "      <td>1.103696</td>\n",
       "      <td>0.849140</td>\n",
       "      <td>0.937104</td>\n",
       "      <td>0.812364</td>\n",
       "      <td>68638</td>\n",
       "    </tr>\n",
       "    <tr>\n",
       "      <th>2</th>\n",
       "      <td>1</td>\n",
       "      <td>1.384098</td>\n",
       "      <td>0.116822</td>\n",
       "      <td>-1.179879</td>\n",
       "      <td>0.762913</td>\n",
       "      <td>-0.079782</td>\n",
       "      <td>1.019863</td>\n",
       "      <td>0.877318</td>\n",
       "      <td>1.276887</td>\n",
       "      <td>2.173076</td>\n",
       "      <td>...</td>\n",
       "      <td>0.504809</td>\n",
       "      <td>3.101961</td>\n",
       "      <td>0.959325</td>\n",
       "      <td>0.807376</td>\n",
       "      <td>1.191814</td>\n",
       "      <td>1.221210</td>\n",
       "      <td>0.861141</td>\n",
       "      <td>0.929341</td>\n",
       "      <td>0.838302</td>\n",
       "      <td>68639</td>\n",
       "    </tr>\n",
       "    <tr>\n",
       "      <th>3</th>\n",
       "      <td>1</td>\n",
       "      <td>1.330110</td>\n",
       "      <td>0.201557</td>\n",
       "      <td>1.173393</td>\n",
       "      <td>0.135309</td>\n",
       "      <td>-1.083159</td>\n",
       "      <td>0.728461</td>\n",
       "      <td>1.109032</td>\n",
       "      <td>-0.539903</td>\n",
       "      <td>1.086538</td>\n",
       "      <td>...</td>\n",
       "      <td>0.054775</td>\n",
       "      <td>3.101961</td>\n",
       "      <td>0.782073</td>\n",
       "      <td>0.672103</td>\n",
       "      <td>0.990002</td>\n",
       "      <td>0.734279</td>\n",
       "      <td>0.379074</td>\n",
       "      <td>0.764760</td>\n",
       "      <td>0.642924</td>\n",
       "      <td>68640</td>\n",
       "    </tr>\n",
       "    <tr>\n",
       "      <th>4</th>\n",
       "      <td>0</td>\n",
       "      <td>1.289848</td>\n",
       "      <td>-1.423023</td>\n",
       "      <td>-0.687162</td>\n",
       "      <td>0.131103</td>\n",
       "      <td>-1.135935</td>\n",
       "      <td>0.821350</td>\n",
       "      <td>0.296053</td>\n",
       "      <td>0.167582</td>\n",
       "      <td>2.173076</td>\n",
       "      <td>...</td>\n",
       "      <td>0.727328</td>\n",
       "      <td>0.000000</td>\n",
       "      <td>1.006643</td>\n",
       "      <td>0.867914</td>\n",
       "      <td>0.999090</td>\n",
       "      <td>1.109608</td>\n",
       "      <td>1.125094</td>\n",
       "      <td>0.882899</td>\n",
       "      <td>0.859396</td>\n",
       "      <td>68641</td>\n",
       "    </tr>\n",
       "    <tr>\n",
       "      <th>...</th>\n",
       "      <td>...</td>\n",
       "      <td>...</td>\n",
       "      <td>...</td>\n",
       "      <td>...</td>\n",
       "      <td>...</td>\n",
       "      <td>...</td>\n",
       "      <td>...</td>\n",
       "      <td>...</td>\n",
       "      <td>...</td>\n",
       "      <td>...</td>\n",
       "      <td>...</td>\n",
       "      <td>...</td>\n",
       "      <td>...</td>\n",
       "      <td>...</td>\n",
       "      <td>...</td>\n",
       "      <td>...</td>\n",
       "      <td>...</td>\n",
       "      <td>...</td>\n",
       "      <td>...</td>\n",
       "      <td>...</td>\n",
       "      <td>...</td>\n",
       "    </tr>\n",
       "    <tr>\n",
       "      <th>29408</th>\n",
       "      <td>0</td>\n",
       "      <td>0.681892</td>\n",
       "      <td>-2.024935</td>\n",
       "      <td>1.027465</td>\n",
       "      <td>0.739363</td>\n",
       "      <td>-0.547059</td>\n",
       "      <td>0.747515</td>\n",
       "      <td>-1.932954</td>\n",
       "      <td>-0.134101</td>\n",
       "      <td>0.000000</td>\n",
       "      <td>...</td>\n",
       "      <td>-1.458021</td>\n",
       "      <td>3.101961</td>\n",
       "      <td>0.732955</td>\n",
       "      <td>0.819291</td>\n",
       "      <td>0.985703</td>\n",
       "      <td>0.825365</td>\n",
       "      <td>0.365019</td>\n",
       "      <td>0.771479</td>\n",
       "      <td>0.670891</td>\n",
       "      <td>98045</td>\n",
       "    </tr>\n",
       "    <tr>\n",
       "      <th>29409</th>\n",
       "      <td>0</td>\n",
       "      <td>1.678010</td>\n",
       "      <td>0.264865</td>\n",
       "      <td>1.207240</td>\n",
       "      <td>0.162353</td>\n",
       "      <td>1.187041</td>\n",
       "      <td>0.485610</td>\n",
       "      <td>-0.023791</td>\n",
       "      <td>0.128222</td>\n",
       "      <td>2.173076</td>\n",
       "      <td>...</td>\n",
       "      <td>0.881594</td>\n",
       "      <td>0.000000</td>\n",
       "      <td>0.893775</td>\n",
       "      <td>0.930790</td>\n",
       "      <td>0.982853</td>\n",
       "      <td>0.837419</td>\n",
       "      <td>0.861734</td>\n",
       "      <td>0.873256</td>\n",
       "      <td>0.773829</td>\n",
       "      <td>98046</td>\n",
       "    </tr>\n",
       "    <tr>\n",
       "      <th>29410</th>\n",
       "      <td>1</td>\n",
       "      <td>1.180592</td>\n",
       "      <td>0.678802</td>\n",
       "      <td>1.088500</td>\n",
       "      <td>0.297297</td>\n",
       "      <td>0.165214</td>\n",
       "      <td>0.551476</td>\n",
       "      <td>0.250503</td>\n",
       "      <td>1.405502</td>\n",
       "      <td>0.000000</td>\n",
       "      <td>...</td>\n",
       "      <td>-0.206137</td>\n",
       "      <td>3.101961</td>\n",
       "      <td>0.944666</td>\n",
       "      <td>0.826648</td>\n",
       "      <td>0.990374</td>\n",
       "      <td>1.121632</td>\n",
       "      <td>1.236583</td>\n",
       "      <td>1.062557</td>\n",
       "      <td>0.917057</td>\n",
       "      <td>98047</td>\n",
       "    </tr>\n",
       "    <tr>\n",
       "      <th>29411</th>\n",
       "      <td>0</td>\n",
       "      <td>2.786130</td>\n",
       "      <td>-0.679884</td>\n",
       "      <td>-1.673151</td>\n",
       "      <td>0.854033</td>\n",
       "      <td>1.020573</td>\n",
       "      <td>0.844252</td>\n",
       "      <td>-0.323831</td>\n",
       "      <td>-0.132437</td>\n",
       "      <td>0.000000</td>\n",
       "      <td>...</td>\n",
       "      <td>1.054172</td>\n",
       "      <td>0.000000</td>\n",
       "      <td>0.931880</td>\n",
       "      <td>0.880436</td>\n",
       "      <td>1.399047</td>\n",
       "      <td>1.041965</td>\n",
       "      <td>0.875924</td>\n",
       "      <td>1.056742</td>\n",
       "      <td>1.383591</td>\n",
       "      <td>98048</td>\n",
       "    </tr>\n",
       "    <tr>\n",
       "      <th>29412</th>\n",
       "      <td>0</td>\n",
       "      <td>2.512898</td>\n",
       "      <td>0.530759</td>\n",
       "      <td>-1.470626</td>\n",
       "      <td>1.641798</td>\n",
       "      <td>1.613386</td>\n",
       "      <td>0.934027</td>\n",
       "      <td>1.521958</td>\n",
       "      <td>-0.049836</td>\n",
       "      <td>0.000000</td>\n",
       "      <td>...</td>\n",
       "      <td>-0.386483</td>\n",
       "      <td>0.000000</td>\n",
       "      <td>0.774413</td>\n",
       "      <td>0.745263</td>\n",
       "      <td>0.997088</td>\n",
       "      <td>1.392387</td>\n",
       "      <td>0.864681</td>\n",
       "      <td>1.179783</td>\n",
       "      <td>1.086167</td>\n",
       "      <td>98049</td>\n",
       "    </tr>\n",
       "  </tbody>\n",
       "</table>\n",
       "<p>29413 rows × 30 columns</p>\n",
       "</div>"
      ],
      "text/plain": [
       "       signal  lepton_pT  lepton_eta  lepton_phi  missing_energy_magnitude  \\\n",
       "0           1   1.105009    0.321356    1.522401                  0.882808   \n",
       "1           1   1.176566    0.104161    1.397002                  0.479721   \n",
       "2           1   1.384098    0.116822   -1.179879                  0.762913   \n",
       "3           1   1.330110    0.201557    1.173393                  0.135309   \n",
       "4           0   1.289848   -1.423023   -0.687162                  0.131103   \n",
       "...       ...        ...         ...         ...                       ...   \n",
       "29408       0   0.681892   -2.024935    1.027465                  0.739363   \n",
       "29409       0   1.678010    0.264865    1.207240                  0.162353   \n",
       "29410       1   1.180592    0.678802    1.088500                  0.297297   \n",
       "29411       0   2.786130   -0.679884   -1.673151                  0.854033   \n",
       "29412       0   2.512898    0.530759   -1.470626                  1.641798   \n",
       "\n",
       "       missing_energy_phi    jet1pt   jet1eta   jet1phi  jet1b.tag  ...  \\\n",
       "0               -1.205349  0.681466 -1.070464 -0.921871   0.000000  ...   \n",
       "1                0.265513  1.135563  1.534831 -0.253291   0.000000  ...   \n",
       "2               -0.079782  1.019863  0.877318  1.276887   2.173076  ...   \n",
       "3               -1.083159  0.728461  1.109032 -0.539903   1.086538  ...   \n",
       "4               -1.135935  0.821350  0.296053  0.167582   2.173076  ...   \n",
       "...                   ...       ...       ...       ...        ...  ...   \n",
       "29408           -0.547059  0.747515 -1.932954 -0.134101   0.000000  ...   \n",
       "29409            1.187041  0.485610 -0.023791  0.128222   2.173076  ...   \n",
       "29410            0.165214  0.551476  0.250503  1.405502   0.000000  ...   \n",
       "29411            1.020573  0.844252 -0.323831 -0.132437   0.000000  ...   \n",
       "29412            1.613386  0.934027  1.521958 -0.049836   0.000000  ...   \n",
       "\n",
       "        jet4phi  jet4b.tag      m_jj     m_jjj      m_lv     m_jlv      m_bb  \\\n",
       "0      0.113041   0.000000  0.755856  1.361057  0.986610  0.838085  1.133295   \n",
       "1      0.530334   0.000000  0.833175  0.773968  0.985750  1.103696  0.849140   \n",
       "2      0.504809   3.101961  0.959325  0.807376  1.191814  1.221210  0.861141   \n",
       "3      0.054775   3.101961  0.782073  0.672103  0.990002  0.734279  0.379074   \n",
       "4      0.727328   0.000000  1.006643  0.867914  0.999090  1.109608  1.125094   \n",
       "...         ...        ...       ...       ...       ...       ...       ...   \n",
       "29408 -1.458021   3.101961  0.732955  0.819291  0.985703  0.825365  0.365019   \n",
       "29409  0.881594   0.000000  0.893775  0.930790  0.982853  0.837419  0.861734   \n",
       "29410 -0.206137   3.101961  0.944666  0.826648  0.990374  1.121632  1.236583   \n",
       "29411  1.054172   0.000000  0.931880  0.880436  1.399047  1.041965  0.875924   \n",
       "29412 -0.386483   0.000000  0.774413  0.745263  0.997088  1.392387  0.864681   \n",
       "\n",
       "          m_wbb    m_wwbb     id  \n",
       "0      0.872245  0.808487  68637  \n",
       "1      0.937104  0.812364  68638  \n",
       "2      0.929341  0.838302  68639  \n",
       "3      0.764760  0.642924  68640  \n",
       "4      0.882899  0.859396  68641  \n",
       "...         ...       ...    ...  \n",
       "29408  0.771479  0.670891  98045  \n",
       "29409  0.873256  0.773829  98046  \n",
       "29410  1.062557  0.917057  98047  \n",
       "29411  1.056742  1.383591  98048  \n",
       "29412  1.179783  1.086167  98049  \n",
       "\n",
       "[29413 rows x 30 columns]"
      ]
     },
     "execution_count": 117,
     "metadata": {},
     "output_type": "execute_result"
    }
   ],
   "source": [
    "test"
   ]
  },
  {
   "cell_type": "code",
   "execution_count": 118,
   "metadata": {},
   "outputs": [
    {
     "data": {
      "image/png": "[encoded data removed]",
      "text/plain": [
       "<Figure size 432x288 with 1 Axes>"
      ]
     },
     "metadata": {
      "needs_background": "light"
     },
     "output_type": "display_data"
    },
    {
     "data": {
      "image/png": "[encoded data removed]",
      "text/plain": [
       "<Figure size 432x288 with 1 Axes>"
      ]
     },
     "metadata": {
      "needs_background": "light"
     },
     "output_type": "display_data"
    }
   ],
   "source": [
    "plt_quantity = 'm_jj'\n",
    "plt.hist(test.query('signal==0')[plt_quantity], label=\"background test\",histtype='step',density=True,bins='auto')\n",
    "plt.hist(test.query('signal==1')[plt_quantity], label=\"signal test\",histtype='step',density=True,bins='auto')\n",
    "plt.xlabel(\"ANN response\")\n",
    "plt.legend(bbox_to_anchor=(1,1), loc=\"upper left\");\n",
    "plt.show();\n",
    "\n",
    "plt.hist(train.query('signal==0')[plt_quantity], label=\"background train\",histtype='step',density=True,bins='auto')\n",
    "plt.hist(train.query('signal==1')[plt_quantity], label=\"signal train\",histtype='step',density=True,bins='auto')\n",
    "plt.xlabel(\"ANN response\")\n",
    "plt.legend(bbox_to_anchor=(1,1), loc=\"upper left\");\n",
    "plt.show();\n"
   ]
  },
  {
   "cell_type": "code",
   "execution_count": 119,
   "metadata": {},
   "outputs": [
    {
     "data": {
      "text/plain": [
       "[array([[ 0.14297776, -4.35929015,  2.32277495],\n",
       "        [-2.10878582, -2.22086451,  3.51591401],\n",
       "        [ 0.06562087, -2.19430354,  1.01219406],\n",
       "        [ 6.1337492 , -1.19738705,  1.59985859],\n",
       "        [-6.16922424,  0.00758963,  1.6670386 ]]),\n",
       " array([[2.28046069, 1.95779692, 0.82633905, 2.14550678, 1.71680816]])]"
      ]
     },
     "execution_count": 119,
     "metadata": {},
     "output_type": "execute_result"
    }
   ],
   "source": [
    "all_arr[0]"
   ]
  },
  {
   "cell_type": "code",
   "execution_count": 120,
   "metadata": {},
   "outputs": [
    {
     "ename": "NameError",
     "evalue": "name 'n_i' is not defined",
     "output_type": "error",
     "traceback": [
      "\u001b[0;31m---------------------------------------------------------------------------\u001b[0m",
      "\u001b[0;31mNameError\u001b[0m                                 Traceback (most recent call last)",
      "\u001b[0;32m<ipython-input-120-27142c162b12>\u001b[0m in \u001b[0;36m<module>\u001b[0;34m\u001b[0m\n\u001b[0;32m----> 1\u001b[0;31m \u001b[0;34m-\u001b[0m\u001b[0mnp\u001b[0m\u001b[0;34m.\u001b[0m\u001b[0msqrt\u001b[0m\u001b[0;34m(\u001b[0m\u001b[0;36m6\u001b[0m\u001b[0;34m/\u001b[0m\u001b[0mn_i\u001b[0m\u001b[0;34m+\u001b[0m\u001b[0mn_o\u001b[0m\u001b[0;34m)\u001b[0m\u001b[0;34m,\u001b[0m\u001b[0mnp\u001b[0m\u001b[0;34m.\u001b[0m\u001b[0msqrt\u001b[0m\u001b[0;34m(\u001b[0m\u001b[0;36m6\u001b[0m\u001b[0;34m/\u001b[0m\u001b[0mn_i\u001b[0m\u001b[0;34m+\u001b[0m\u001b[0mn_o\u001b[0m\u001b[0;34m)\u001b[0m\u001b[0;34m\u001b[0m\u001b[0m\n\u001b[0m\u001b[1;32m      2\u001b[0m \u001b[0;34m\u001b[0m\u001b[0m\n",
      "\u001b[0;31mNameError\u001b[0m: name 'n_i' is not defined"
     ]
    }
   ],
   "source": [
    "-np.sqrt(6/n_i+n_o),np.sqrt(6/n_i+n_o)\n",
    "\n"
   ]
  },
  {
   "cell_type": "code",
   "execution_count": 121,
   "metadata": {},
   "outputs": [
    {
     "ename": "NameError",
     "evalue": "name 'n_previosu' is not defined",
     "output_type": "error",
     "traceback": [
      "\u001b[0;31m---------------------------------------------------------------------------\u001b[0m",
      "\u001b[0;31mNameError\u001b[0m                                 Traceback (most recent call last)",
      "\u001b[0;32m<ipython-input-121-fa6a2e8a4b48>\u001b[0m in \u001b[0;36m<module>\u001b[0;34m\u001b[0m\n\u001b[1;32m      1\u001b[0m \u001b[0mn_next\u001b[0m \u001b[0;34m=\u001b[0m \u001b[0;36m1\u001b[0m\u001b[0;34m\u001b[0m\u001b[0m\n\u001b[0;32m----> 2\u001b[0;31m \u001b[0mn_previosu\u001b[0m\u001b[0;34m\u001b[0m\u001b[0m\n\u001b[0m\u001b[1;32m      3\u001b[0m \u001b[0mnp\u001b[0m\u001b[0;34m.\u001b[0m\u001b[0marray\u001b[0m\u001b[0;34m(\u001b[0m\u001b[0mnp\u001b[0m\u001b[0;34m.\u001b[0m\u001b[0mrandom\u001b[0m\u001b[0;34m.\u001b[0m\u001b[0muniform\u001b[0m\u001b[0;34m(\u001b[0m\u001b[0;34m-\u001b[0m\u001b[0mnp\u001b[0m\u001b[0;34m.\u001b[0m\u001b[0msqrt\u001b[0m\u001b[0;34m(\u001b[0m\u001b[0;36m6\u001b[0m\u001b[0;34m/\u001b[0m\u001b[0;34m(\u001b[0m\u001b[0mn_previous\u001b[0m\u001b[0;34m+\u001b[0m\u001b[0mn_next\u001b[0m\u001b[0;34m)\u001b[0m\u001b[0;34m)\u001b[0m\u001b[0;34m,\u001b[0m\u001b[0mnp\u001b[0m\u001b[0;34m.\u001b[0m\u001b[0msqrt\u001b[0m\u001b[0;34m(\u001b[0m\u001b[0;36m6\u001b[0m\u001b[0;34m/\u001b[0m\u001b[0;34m(\u001b[0m\u001b[0mn_previous\u001b[0m\u001b[0;34m+\u001b[0m\u001b[0mn_next\u001b[0m\u001b[0;34m)\u001b[0m\u001b[0;34m)\u001b[0m\u001b[0;34m,\u001b[0m\u001b[0;34m[\u001b[0m\u001b[0mn_next\u001b[0m\u001b[0;34m,\u001b[0m\u001b[0mn_previous\u001b[0m\u001b[0;34m]\u001b[0m\u001b[0;34m)\u001b[0m\u001b[0;34m)\u001b[0m\u001b[0;34m\u001b[0m\u001b[0m\n",
      "\u001b[0;31mNameError\u001b[0m: name 'n_previosu' is not defined"
     ]
    }
   ],
   "source": [
    "n_next = 1\n",
    "n_previosu\n",
    "np.array(np.random.uniform(-np.sqrt(6/(n_previous+n_next)),np.sqrt(6/(n_previous+n_next)),[n_next,n_previous]))"
   ]
  },
  {
   "cell_type": "code",
   "execution_count": 105,
   "metadata": {},
   "outputs": [
    {
     "data": {
      "text/plain": [
       "1.0"
      ]
     },
     "execution_count": 105,
     "metadata": {},
     "output_type": "execute_result"
    }
   ],
   "source": [
    "np.sqrt(6/(n_previous+n_next))"
   ]
  },
  {
   "cell_type": "code",
   "execution_count": null,
   "metadata": {},
   "outputs": [],
   "source": []
  },
  {
   "cell_type": "code",
   "execution_count": null,
   "metadata": {},
   "outputs": [],
   "source": []
  }
 ],
 "metadata": {
  "kernelspec": {
   "display_name": "Python 3",
   "language": "python",
   "name": "python3"
  },
  "language_info": {
   "codemirror_mode": {
    "name": "ipython",
    "version": 3
   },
   "file_extension": ".py",
   "mimetype": "text/x-python",
   "name": "python",
   "nbconvert_exporter": "python",
   "pygments_lexer": "ipython3",
   "version": "3.6.2"
  }
 },
 "nbformat": 4,
 "nbformat_minor": 2
}
