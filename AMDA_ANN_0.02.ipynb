{
 "cells": [
  {
   "cell_type": "code",
   "execution_count": 1,
   "metadata": {},
   "outputs": [],
   "source": [
    "import numpy as np\n",
    "import pandas as pd\n",
    "import matplotlib.pyplot as plt"
   ]
  },
  {
   "cell_type": "code",
   "execution_count": 159,
   "metadata": {},
   "outputs": [
    {
     "name": "stdout",
     "output_type": "stream",
     "text": [
      "68636 29413\n"
     ]
    }
   ],
   "source": [
    "train_data = pd.read_csv('train.csv')\n",
    "test_data = pd.read_csv('test.csv')[:-1]\n",
    "print(len(train_data), len(test_data))\n",
    "\n",
    "train_copy = train_data\n",
    "#test_copy = test_data.astype('float')\n",
    "test_copy = test_data.apply(pd.to_numeric)"
   ]
  },
  {
   "cell_type": "code",
   "execution_count": 160,
   "metadata": {},
   "outputs": [],
   "source": [
    "X = train_copy.drop(\"signal\", axis=1)\n",
    "X = (X-X.mean())/X.std()\n",
    "train_copy = X.join(train_copy[\"signal\"])"
   ]
  },
  {
   "cell_type": "code",
   "execution_count": 161,
   "metadata": {},
   "outputs": [],
   "source": [
    "X = test_copy.drop(\"signal\", axis=1)\n",
    "X = (X-X.mean())/X.std()\n",
    "test_copy = X.join(test_copy[\"signal\"])"
   ]
  },
  {
   "cell_type": "markdown",
   "metadata": {},
   "source": [
    "# Get best features"
   ]
  },
  {
   "cell_type": "code",
   "execution_count": 162,
   "metadata": {},
   "outputs": [
    {
     "data": {
      "text/plain": [
       "{'missing_energy_phi': 0.003254063696343179,\n",
       " 'lepton_phi': 0.005250537605601402,\n",
       " 'jet1phi': 0.006744408012343661,\n",
       " 'jet3phi': 0.007694254995927352,\n",
       " 'jet4phi': 0.008105746088170163,\n",
       " 'jet2phi': 0.008137114722488237,\n",
       " 'm_lv': 0.010386893995635749,\n",
       " 'lepton_eta': 0.010518898163357937,\n",
       " 'jet1b.tag': 0.012580087397600026,\n",
       " 'jet3pt': 0.012693279584993333,\n",
       " 'id': 0.01269965758149394,\n",
       " 'jet1eta': 0.014007216717948245,\n",
       " 'jet3eta': 0.014504340101392843,\n",
       " 'jet4b.tag': 0.015875851281828557,\n",
       " 'jet2eta': 0.0173633309139285,\n",
       " 'm_jj': 0.017681132670639033,\n",
       " 'jet4eta': 0.019486671326037097,\n",
       " 'jet3b.tag': 0.02494816071865935,\n",
       " 'jet2pt': 0.02846273239147512,\n",
       " 'jet4pt': 0.030942537809816595,\n",
       " 'lepton_pT': 0.03858265522652582,\n",
       " 'jet2b.tag': 0.049864347970956235,\n",
       " 'm_jlv': 0.05341320850942499,\n",
       " 'jet1pt': 0.06990101266799159,\n",
       " 'missing_energy_magnitude': 0.07262518556598518,\n",
       " 'm_jjj': 0.09632140613997875,\n",
       " 'm_wbb': 0.1070652762675185,\n",
       " 'm_wwbb': 0.1517473764300511,\n",
       " 'm_bb': 0.1960046638615971}"
      ]
     },
     "execution_count": 162,
     "metadata": {},
     "output_type": "execute_result"
    }
   ],
   "source": [
    "from scipy.stats import ks_2samp\n",
    "\n",
    "test_stat, test_p = [], []\n",
    "\n",
    "for i in range(len(train_copy.keys())-1):\n",
    "    test_stat = np.append(test_stat,ks_2samp(train_copy.query('signal==0')[train_copy.keys()[i]],train_copy.query('signal==1')[train_copy.keys()[i]])[0])\n",
    "    test_p = np.append(test_stat,ks_2samp(train_copy.query('signal==0')[train_copy.keys()[i]],train_copy.query('signal==1')[train_copy.keys()[i]])[1])\n",
    "    #print(d.keys()[i+1],\":\",ks_2samp(d.query('signal==0')[d.keys()[i+1]],d.query('signal==1')[d.keys()[i+1]]))\n",
    "\n",
    "test_list = dict(zip(train_copy.keys()[:-1],test_stat))\n",
    "test_list_sorted = dict(sorted(test_list.items(), key=lambda item: item[1]))\n",
    "test_list_sorted"
   ]
  },
  {
   "cell_type": "code",
   "execution_count": 163,
   "metadata": {},
   "outputs": [
    {
     "name": "stdout",
     "output_type": "stream",
     "text": [
      "Least separable: missing_energy_phi\n"
     ]
    },
    {
     "data": {
      "image/png": "[encoded data removed]",
      "text/plain": [
       "<Figure size 432x288 with 1 Axes>"
      ]
     },
     "metadata": {
      "needs_background": "light"
     },
     "output_type": "display_data"
    },
    {
     "name": "stdout",
     "output_type": "stream",
     "text": [
      "Most separable: m_bb\n"
     ]
    },
    {
     "data": {
      "image/png": "[encoded data removed]",
      "text/plain": [
       "<Figure size 432x288 with 1 Axes>"
      ]
     },
     "metadata": {
      "needs_background": "light"
     },
     "output_type": "display_data"
    }
   ],
   "source": [
    "#print(\"Least separable:\",train_copy.keys()[np.argmin(test_stat)+1])\n",
    "#train_copy.query('signal==1')[train_copy.keys()[np.argmin(test_stat)+1]].hist(density=True,bins='auto',label=\"Signal\")\n",
    "#train_copy.query('signal==0')[train_copy.keys()[np.argmin(test_stat)+1]].hist(density=True,bins='auto',label=\"Background\")\n",
    "print(\"Least separable:\",list(test_list_sorted.keys())[0])\n",
    "train_copy.query('signal==1')[list(test_list_sorted.keys())[0]].hist(density=True,bins='auto',label=\"Signal\")\n",
    "train_copy.query('signal==0')[list(test_list_sorted.keys())[0]].hist(density=True,bins='auto',label=\"Background\")\n",
    "\n",
    "plt.legend()\n",
    "plt.show()\n",
    "\n",
    "#print(\"Most separable:\",train_copy.keys()[np.argmax(test_list_sorted)+1])\n",
    "#train_copy.query('signal==1')[train_copy.keys()[np.argmax(test_list_sorted)+1]].hist(density=True,bins='auto',label=\"Signal\")\n",
    "#train_copy.query('signal==0')[train_copy.keys()[np.argmax(test_list_sorted)+1]].hist(density=True,bins='auto',label=\"Background\")\n",
    "#plt.legend()\n",
    "#plt.show()\n",
    "\n",
    "\n",
    "print(\"Most separable:\",list(test_list_sorted.keys())[-1])\n",
    "train_copy.query('signal==1')[list(test_list_sorted.keys())[-1]].hist(density=True,bins='auto',label=\"Signal\")\n",
    "train_copy.query('signal==0')[list(test_list_sorted.keys())[-1]].hist(density=True,bins='auto',label=\"Background\")\n",
    "plt.legend()\n",
    "plt.show()"
   ]
  },
  {
   "cell_type": "markdown",
   "metadata": {},
   "source": [
    "# Build ANN"
   ]
  },
  {
   "cell_type": "code",
   "execution_count": 164,
   "metadata": {},
   "outputs": [],
   "source": [
    "def f_act(x_input):\n",
    "    return 1/(1+np.exp(-x_input))\n",
    "\n",
    "def f_cost(y, x_input):\n",
    "    return (-1/2) * (y - x_input)**2\n",
    "\n",
    "def der_f_act(x_input):\n",
    "    return np.exp(-x_input)/(1+np.exp(-x_input))**2\n",
    "    #return f_act(x_input) * (1 - f_act(x_input))\n",
    "\n",
    "def der_f_cost(y, x_input):\n",
    "    return (y-x_input)"
   ]
  },
  {
   "cell_type": "code",
   "execution_count": 179,
   "metadata": {},
   "outputs": [],
   "source": [
    "np.random.seed(12)\n",
    "\n",
    "\n",
    "def train_ANN(input_vector,n_hidden_nodes,n_output_nodes,y_true):\n",
    "    cost_all = []\n",
    "    for count in range(25):\n",
    "\n",
    "        if count==0: \n",
    "            input_weights = np.random.uniform(-1,1,[n_hidden_nodes,len(input_vector)])\n",
    "            input_weights_list = input_weights\n",
    "\n",
    "        #print(input_weights)\n",
    "        hidden_inputs = np.dot(input_weights,input_vector)\n",
    "        hidden_results = np.vstack((np.ones(np.shape(input_vector)[1]), f_act(hidden_inputs)))\n",
    "\n",
    "        if count==0: \n",
    "            output_weights = np.random.uniform(-1,1,[n_output_nodes,len(hidden_results)])\n",
    "            output_weights_list = output_weights[0]\n",
    "\n",
    "        output_inputs = np.dot(output_weights, hidden_results)[0]\n",
    "        output_result = f_act(output_inputs)\n",
    "\n",
    "\n",
    "        prod_1 = der_f_cost(y_true,output_result) * der_f_act(output_inputs)\n",
    "\n",
    "        for k in range(len(output_weights[0])):\n",
    "           # output_weights[0][k] -= l_rate * np.sum(der_f_cost(y_true,output_result) * der_f_act(output_inputs) * \n",
    "           #                                      hidden_results[k])\n",
    "            output_weights[0][k] -= l_rate * np.sum( prod_1 * hidden_results[k])\n",
    "\n",
    "        output_weights_list = np.vstack((output_weights_list, output_weights))\n",
    "\n",
    "        for i in range(np.shape(input_weights)[0]):\n",
    "            for j in range(np.shape(input_weights)[1]):\n",
    "    #            input_weights[i,j] -= l_rate * np.sum(der_f_cost(y_true,output_result) * der_f_act(output_inputs) * \n",
    "    #                                         output_weights_list[-2][i] * der_f_act(hidden_inputs[i]) * input_vector[j])\n",
    "                input_weights[i,j] -= l_rate * np.sum(prod_1 * output_weights_list[-2][i] * \n",
    "                                                      der_f_act(hidden_inputs[i]) * input_vector[j])\n",
    "        #input_weights_list = np.stack((input_weights_list,input_weights))\n",
    "\n",
    "        cost_all = np.append(cost_all,np.sum(f_cost(y_true,output_result)))\n",
    "        print(count,end=\" \")\n",
    "    \n",
    "    return cost_all, input_weights, output_weights_list\n",
    "    \n",
    "    \n",
    "    "
   ]
  },
  {
   "cell_type": "code",
   "execution_count": 180,
   "metadata": {},
   "outputs": [
    {
     "name": "stdout",
     "output_type": "stream",
     "text": [
      "0 1 2 3 4 5 6 7 8 9 10 11 12 13 14 15 16 17 18 19 20 21 22 23 24 "
     ]
    }
   ],
   "source": [
    "#input_data = [0 * train_data['m_wbb'] + 1,train_data['m_bb'],train_data['m_wwbb'],train_data['m_wbb']]\n",
    "input_vector = [0 * train_copy['m_bb'] + 1,train_copy['m_bb'],train_copy['m_wwbb'],train_copy['m_wbb']]\n",
    "y_true = train_data['signal']\n",
    "\n",
    "n_hidden_nodes = 3\n",
    "n_output_nodes = 1\n",
    "\n",
    "l_rate = 10 / 68636\n",
    "\n",
    "cost_func, weights_L1, weights_L2 = train_ANN(input_vector,n_hidden_nodes,n_output_nodes,y_true)"
   ]
  },
  {
   "cell_type": "code",
   "execution_count": 181,
   "metadata": {},
   "outputs": [
    {
     "data": {
      "image/png": "[encoded data removed]",
      "text/plain": [
       "<Figure size 432x288 with 1 Axes>"
      ]
     },
     "metadata": {
      "needs_background": "light"
     },
     "output_type": "display_data"
    },
    {
     "data": {
      "image/png": "[encoded data removed]",
      "text/plain": [
       "<Figure size 432x288 with 1 Axes>"
      ]
     },
     "metadata": {
      "needs_background": "light"
     },
     "output_type": "display_data"
    },
    {
     "name": "stdout",
     "output_type": "stream",
     "text": [
      "Final output weights: [3.38858714 1.82731987 0.01923149 1.55524044]\n"
     ]
    }
   ],
   "source": [
    "plt.scatter(np.arange(0,len(cost_func),1),cost_func)\n",
    "plt.show()\n",
    "\n",
    "for i in range(n_hidden_nodes+1):\n",
    "    plt.plot(np.arange(0,len(weights_L2),1),weights_L2[:,i])\n",
    "plt.show()\n",
    "\n",
    "print(\"Final output weights:\", weights_L2[-1])"
   ]
  },
  {
   "cell_type": "code",
   "execution_count": 182,
   "metadata": {},
   "outputs": [
    {
     "data": {
      "text/plain": [
       "array([[ 0.44164433,  0.67657283, -0.23975974,  0.17772441],\n",
       "       [-0.38618895,  0.9802571 ,  0.94795096, -0.86164337],\n",
       "       [ 0.66031175, -0.80579865, -0.50271844,  0.17351355]])"
      ]
     },
     "execution_count": 182,
     "metadata": {},
     "output_type": "execute_result"
    }
   ],
   "source": [
    "weights_L1"
   ]
  },
  {
   "cell_type": "markdown",
   "metadata": {},
   "source": [
    "# Test ANN"
   ]
  },
  {
   "cell_type": "code",
   "execution_count": 183,
   "metadata": {},
   "outputs": [],
   "source": [
    "#test_data\n",
    "\n",
    "\n",
    "def test_ANN(input_vector, input_weights, output_weights,y_true):\n",
    "\n",
    "\n",
    "    hidden_inputs = np.dot(input_weights,input_vector)\n",
    "    hidden_results = np.vstack((np.ones(np.shape(input_vector)[1]), f_act(hidden_inputs)))\n",
    "\n",
    "    \n",
    "    output_inputs = np.dot(output_weights, hidden_results)[0]\n",
    "    output_result = f_act(output_inputs)\n",
    "\n",
    "\n",
    "        \n",
    "\n",
    "        \n",
    "    cost = np.sum(f_cost(y_true,output_result))\n",
    "    \n",
    "    \n",
    "    return cost, output_result\n",
    "    \n",
    "    \n",
    "    "
   ]
  },
  {
   "cell_type": "code",
   "execution_count": 184,
   "metadata": {},
   "outputs": [],
   "source": [
    "test_input = [test_copy['m_bb'] * 0 + 1,test_copy['m_bb'],test_copy['m_wwbb'],test_copy['m_wbb']]\n",
    "y_true = test_copy['signal']\n",
    "test_cost, test_result = test_ANN(test_input, weights_L1, weights_L2,y_true)"
   ]
  },
  {
   "cell_type": "code",
   "execution_count": 196,
   "metadata": {},
   "outputs": [
    {
     "data": {
      "image/png": "[encoded data removed]",
      "text/plain": [
       "<Figure size 432x288 with 1 Axes>"
      ]
     },
     "metadata": {
      "needs_background": "light"
     },
     "output_type": "display_data"
    }
   ],
   "source": [
    "plt.hist(test_result[test_copy[\"signal\"] == 0],bins='auto',label=\"Bkg\")\n",
    "plt.hist(test_result[test_copy[\"signal\"] == 1],bins='auto',label=\"Signal\")\n",
    "\n",
    "plt.legend()\n",
    "plt.show()"
   ]
  },
  {
   "cell_type": "code",
   "execution_count": 208,
   "metadata": {},
   "outputs": [
    {
     "data": {
      "image/png": "[encoded data removed]",
      "text/plain": [
       "<Figure size 432x288 with 1 Axes>"
      ]
     },
     "metadata": {
      "needs_background": "light"
     },
     "output_type": "display_data"
    }
   ],
   "source": [
    "feats = ['m_bb','m_wwbb','m_wbb']\n",
    "\n",
    "from sklearn.metrics import roc_curve\n",
    "def left_right_ordered_feature(sample, f):\n",
    "    mean_sig = np.mean(sample[f][sample[\"signal\"] == 1])\n",
    "    mean_bkg = np.mean(sample[f][sample[\"signal\"] == 0])\n",
    "    if mean_bkg < mean_sig:\n",
    "        return sample[f]\n",
    "    else:\n",
    "        return -sample[f]\n",
    "\n",
    "for label,value in [(f, left_right_ordered_feature(test_copy, f)) for f in feats]+[(\"MLP output\", test_result)]:\n",
    "    fpr, tpr, thresh = roc_curve(test_copy[\"signal\"], value)\n",
    "    #plt.plot(tpr, 1-fpr, label=label)\n",
    "    plt.plot(fpr, tpr, label=label)\n",
    "\n",
    "plt.xlim(0,1)\n",
    "plt.ylim(0,1)\n",
    "plt.xlabel('signal efficiency')\n",
    "plt.ylabel('background rejection')\n",
    "plt.legend(bbox_to_anchor=(1,1), loc=\"upper left\");\n",
    "plt.show()"
   ]
  },
  {
   "cell_type": "code",
   "execution_count": 210,
   "metadata": {},
   "outputs": [
    {
     "data": {
      "text/plain": [
       "array([0.8330131 , 0.84573194, 0.84217685, ..., 0.83240255, 0.78076635,\n",
       "       0.83398386])"
      ]
     },
     "execution_count": 210,
     "metadata": {},
     "output_type": "execute_result"
    }
   ],
   "source": [
    "test_result"
   ]
  },
  {
   "cell_type": "code",
   "execution_count": null,
   "metadata": {},
   "outputs": [],
   "source": []
  },
  {
   "cell_type": "code",
   "execution_count": null,
   "metadata": {},
   "outputs": [],
   "source": []
  }
 ],
 "metadata": {
  "kernelspec": {
   "display_name": "Python 3",
   "language": "python",
   "name": "python3"
  },
  "language_info": {
   "codemirror_mode": {
    "name": "ipython",
    "version": 3
   },
   "file_extension": ".py",
   "mimetype": "text/x-python",
   "name": "python",
   "nbconvert_exporter": "python",
   "pygments_lexer": "ipython3",
   "version": "3.6.2"
  }
 },
 "nbformat": 4,
 "nbformat_minor": 2
}
