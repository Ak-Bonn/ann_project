{
 "cells": [
  {
   "cell_type": "code",
   "execution_count": 1,
   "metadata": {},
   "outputs": [],
   "source": [
    "import numpy as np\n",
    "import pandas as pd\n",
    "import matplotlib.pyplot as plt"
   ]
  },
  {
   "cell_type": "code",
   "execution_count": 2,
   "metadata": {},
   "outputs": [
    {
     "name": "stdout",
     "output_type": "stream",
     "text": [
      "68636 29413\n"
     ]
    }
   ],
   "source": [
    "train_data = pd.read_csv('train.csv')\n",
    "test_data = pd.read_csv('test.csv')[:-1]\n",
    "print(len(train_data), len(test_data))\n",
    "\n",
    "train= train_data\n",
    "test = test_data.apply(pd.to_numeric)"
   ]
  },
  {
   "cell_type": "code",
   "execution_count": 3,
   "metadata": {},
   "outputs": [],
   "source": [
    "X = train.drop(\"signal\", axis=1)\n",
    "X = (X-X.mean())/X.std()\n",
    "train = X.join(train[\"signal\"])\n",
    "\n",
    "XX = test.drop(\"signal\", axis=1)\n",
    "XX = (XX-XX.mean())/XX.std()\n",
    "test = XX.join(test[\"signal\"])"
   ]
  },
  {
   "cell_type": "code",
   "execution_count": 9,
   "metadata": {},
   "outputs": [
    {
     "data": {
      "text/plain": [
       "{'missing_energy_phi': 0.003254063696343179,\n",
       " 'lepton_phi': 0.005250537605601402,\n",
       " 'jet1phi': 0.006744408012343661,\n",
       " 'jet3phi': 0.007694254995927352,\n",
       " 'jet4phi': 0.008105746088170163,\n",
       " 'jet2phi': 0.008137114722488237,\n",
       " 'm_lv': 0.010386893995635749,\n",
       " 'lepton_eta': 0.010518898163357937,\n",
       " 'jet1b.tag': 0.012580087397600026,\n",
       " 'jet3pt': 0.012693279584993333,\n",
       " 'id': 0.01269965758149394,\n",
       " 'jet1eta': 0.014007216717948245,\n",
       " 'jet3eta': 0.014504340101392843,\n",
       " 'jet4b.tag': 0.015875851281828557,\n",
       " 'jet2eta': 0.0173633309139285,\n",
       " 'm_jj': 0.017681132670639033,\n",
       " 'jet4eta': 0.019486671326037097,\n",
       " 'jet3b.tag': 0.02494816071865935,\n",
       " 'jet2pt': 0.02846273239147512,\n",
       " 'jet4pt': 0.030942537809816595,\n",
       " 'lepton_pT': 0.03858265522652582,\n",
       " 'jet2b.tag': 0.049864347970956235,\n",
       " 'm_jlv': 0.05341320850942499,\n",
       " 'jet1pt': 0.06990101266799159,\n",
       " 'missing_energy_magnitude': 0.07262518556598518,\n",
       " 'm_jjj': 0.09632140613997875,\n",
       " 'm_wbb': 0.1070652762675185,\n",
       " 'm_wwbb': 0.1517473764300511,\n",
       " 'm_bb': 0.1960046638615971}"
      ]
     },
     "execution_count": 9,
     "metadata": {},
     "output_type": "execute_result"
    }
   ],
   "source": [
    "from scipy.stats import ks_2samp\n",
    "train_stat, train_p = [], []\n",
    "\n",
    "for i in range(len(train.keys())-1):\n",
    "    train_stat = np.append(train_stat,ks_2samp(train.query('signal==0')[train.keys()[i]],train.query('signal==1')[train.keys()[i]])[0])\n",
    "    train_p = np.append(train_stat,ks_2samp(train.query('signal==0')[train.keys()[i]],train.query('signal==1')[train.keys()[i]])[1])\n",
    "\n",
    "\n",
    "train_list = dict(zip(train.keys()[:-1],train_stat))\n",
    "train_list_sorted = dict(sorted(train_list.items(), key=lambda item: item[1]))\n",
    "train_list_sorted\n"
   ]
  },
  {
   "cell_type": "code",
   "execution_count": 5,
   "metadata": {},
   "outputs": [],
   "source": [
    "def act_f(xvals):\n",
    "    return 1/(1+np.exp(-xvals))\n",
    "\n",
    "def f_cost(y, xvals):\n",
    "    return (1/2) * (y - xvals)**2\n",
    "\n",
    "def der_f_act(xvals):\n",
    "    return np.exp(-xvals)/(1+np.exp(-xvals))**2\n",
    "    #return f_act(x_input) * (1 - f_act(x_input))\n",
    "\n",
    "def der_f_cost(y, xvals):\n",
    "    return -(y - xvals)"
   ]
  },
  {
   "cell_type": "code",
   "execution_count": 6,
   "metadata": {},
   "outputs": [],
   "source": [
    "#np.random.seed(12)\n",
    "def bias_vector(n_nodes):\n",
    "    return np.array(np.random.uniform(-1,1,n_nodes))\n",
    "    #return np.ones(n_nodes)\n",
    "\n",
    "def initialize_all_bias(n_hidden_nodes,n_hidden_layers):\n",
    "    all_bias_nodes = []\n",
    "    for _ in range(n_hidden_layers):\n",
    "        all_bias_nodes.append(bias_vector(n_hidden_nodes))\n",
    "    all_bias_nodes.append(bias_vector(1))\n",
    "    \n",
    "    return all_bias_nodes\n",
    "    \n",
    "def init_weight_mat(n_next,n_previous):\n",
    "    return np.array(np.random.uniform(-1,1,[n_next,n_previous]))\n",
    "    #return np.ones([n_next,n_previous])\n",
    "\n",
    "\n",
    "def initialize_all_weight_matrices(n_input_features, n_hidden_nodes, n_hidden_layers):\n",
    "    \n",
    "    list_of_nodes = [n_input_features]\n",
    "    for _ in range(n_hidden_layers):\n",
    "        list_of_nodes.append(n_hidden_nodes)\n",
    "    list_of_nodes.append(1)\n",
    "    \n",
    "    all_weight_matrices = []\n",
    "    for i in range(len(list_of_nodes)-1):\n",
    "        all_weight_matrices.append(init_weight_mat(list_of_nodes[i+1],list_of_nodes[i]))\n",
    "\n",
    "    #[number of inputs][number of hidden nodes][number of input layers]\n",
    "    return all_weight_matrices\n",
    "\n",
    "def input_sum(weights, inputs, bias):\n",
    "    return np.dot(weights,inputs) + bias\n",
    "\n"
   ]
  },
  {
   "cell_type": "code",
   "execution_count": 9,
   "metadata": {},
   "outputs": [],
   "source": [
    "def forward_prop(input_features, n_hidden_nodes, n_hidden_layers, weight_list_dummy, bias_list_dummy):\n",
    "\n",
    "    \n",
    "    x_list = input_features\n",
    "    z_list, act_z_list = [], []\n",
    "\n",
    "    for layer in range(len(weight_list_dummy)):\n",
    "        \n",
    "        z_list.append((np.dot(weight_list_dummy[layer], x_list).transpose() + bias_list_dummy[layer]).transpose())\n",
    "        act_z_list.append(act_f(np.dot(weight_list_dummy[layer], x_list).transpose() + bias_list_dummy[layer]).transpose())\n",
    "\n",
    "        x_list = act_z_list[-1]\n",
    "    act_z_list.insert(0,np.array(input_features))\n",
    "    \n",
    "    # for 1st two vars :[# var][layer number][node number][data number]            \n",
    "    return z_list, act_z_list, weight_list_dummy, bias_list_dummy"
   ]
  },
  {
   "cell_type": "code",
   "execution_count": 10,
   "metadata": {},
   "outputs": [],
   "source": [
    "# function to initialize errors for each node (set to 0 at start)\n",
    "def initialize_node_error(n_hidden_nodes,n_hidden_layers):\n",
    "    all_nodes = []\n",
    "    for _ in range(n_hidden_layers):\n",
    "        all_nodes.append([0] * n_hidden_nodes)\n",
    "    all_nodes.append([0])\n",
    "    \n",
    "    return all_nodes\n",
    "    \n",
    "def back_prop(true_values, z_list, act_z_list, weight_list, bias_list, input_features):\n",
    "    \n",
    "    output_error = der_f_cost(true_values, act_z_list[-1][0]) \n",
    "    lrate = 1 / len(true_values)\n",
    "    \n",
    "    # to store weights...\n",
    "    #weight_epochs, bias_epochs = []\n",
    "    #weight_epochs.append(weight_list)\n",
    "    #bias_epochs.append(bias_list)\n",
    "    \n",
    "    # np.shape(weight_list[1])[1] = no. of hidden nodes\n",
    "    # len(weight_list[:-1]) = no. of hidden layers\n",
    "    \n",
    "    error_node_matrix = initialize_node_error(np.shape(weight_list[-1])[1], len(weight_list[:-1]))\n",
    "\n",
    "    error_node_matrix[-1][0] = output_error * der_f_act(z_list[-1][0])\n",
    "\n",
    "    for layer in range(len(weight_list)-1,0,-1): \n",
    "        \n",
    "        for node in range(np.shape(weight_list[layer])[1]):\n",
    "            \n",
    "            for each_weight in range(np.shape(weight_list[layer][0])[0]): \n",
    "                \n",
    "                if layer==len(weight_list)-1:\n",
    " \n",
    "                    error_node_matrix[layer-1][node] +=( weight_list[layer][0][each_weight] * \n",
    "                                                      error_node_matrix[layer][0] * \n",
    "                                                      der_f_act(z_list[layer-1][node]) )\n",
    "                    \n",
    "                if layer<len(weight_list)-1:\n",
    "                \n",
    "                    error_node_matrix[layer-1][node] +=( weight_list[layer][each_weight][node] * \n",
    "                                                      error_node_matrix[layer][each_weight] * \n",
    "                                                      der_f_act(z_list[layer-1][node]) )\n",
    " \n",
    "    \n",
    "    for layer in range(len(weight_list)):    \n",
    "        \n",
    "        for node in range(np.shape(weight_list[-layer-1])[0]):\n",
    "            \n",
    "            for each_weight in range(np.shape(weight_list[-layer-1][node])[0]):\n",
    "                    \n",
    "                if layer!=(len(weight_list)-1):\n",
    "                    \n",
    "                    weight_list[-layer-1][node][each_weight] -= np.sum(lrate * act_z_list[-layer-2][each_weight] *\n",
    "                                                          error_node_matrix[-layer-1][node])\n",
    "                    \n",
    "                if layer==(len(weight_list)-1):\n",
    "                    weight_list[-layer-1][node][each_weight] -= np.sum(lrate * input_features[each_weight] *\n",
    "                                                          error_node_matrix[-layer-1][node])\n",
    "                \n",
    "                bias_list[-layer-1][node] -=  np.sum(lrate * error_node_matrix[-layer-1][node])\n",
    "                    \n",
    "    \n",
    "    return weight_list, bias_list\n",
    "\n",
    "def train_network(input_features, n_hidden_nodes, n_hidden_layers, true_values,epochs):\n",
    "    \n",
    "    weight_list = initialize_all_weight_matrices(len(input_features), n_hidden_nodes, n_hidden_layers)\n",
    "    bias_list = initialize_all_bias( n_hidden_nodes, n_hidden_layers)\n",
    "    \n",
    "    for epochs_i in range(epochs):\n",
    "        z_list_i, act_z_list_i, weight_list_i, bias_list_i = forward_prop(input_features, n_hidden_nodes, \n",
    "                                                                          n_hidden_layers, weight_list, bias_list)\n",
    "        \n",
    "        weights_updated, bias_updated = back_prop(true_values, z_list_i, act_z_list_i, weight_list_i, \n",
    "                                                  bias_list_i, input_features)\n",
    "        weight_list_i = weights_updated\n",
    "        bias_list_i = bias_updated\n",
    "        #print(epochs_i+1,\" epoch(s) completed.\", end=\" \")\n",
    "        print(epochs_i+1, end=\" \")\n",
    "    return weights_updated, bias_updated"
   ]
  },
  {
   "cell_type": "code",
   "execution_count": 67,
   "metadata": {},
   "outputs": [
    {
     "name": "stdout",
     "output_type": "stream",
     "text": [
      "1 2 3 4 5 6 7 8 9 10 11 12 13 14 15 16 17 18 19 20 21 22 23 24 25 26 27 28 29 30 31 32 33 34 35 36 37 38 39 40 41 42 43 44 45 46 47 48 49 50 51 52 53 54 55 56 57 58 59 60 61 62 63 64 65 66 67 68 69 70 71 72 73 74 75 76 77 78 79 80 81 82 83 84 85 86 87 88 89 90 91 92 93 94 95 96 97 98 99 100 101 102 103 104 105 106 107 108 109 110 111 112 113 114 115 116 117 118 119 120 121 122 123 124 125 126 127 128 129 130 131 132 133 134 135 136 137 138 139 140 141 142 143 144 145 146 147 148 149 150 151 152 153 154 155 156 157 158 159 160 161 162 163 164 165 166 167 168 169 170 171 172 173 174 175 176 177 178 179 180 181 182 183 184 185 186 187 188 189 190 191 192 193 194 195 196 197 198 199 200 201 202 203 204 205 206 207 208 209 210 211 212 213 214 215 216 217 218 219 220 221 222 223 224 225 226 227 228 229 230 231 232 233 234 235 236 237 238 239 240 241 242 243 244 245 246 247 248 249 250 251 252 253 254 255 256 257 258 259 260 261 262 263 264 265 266 267 268 269 270 271 272 273 274 275 276 277 278 279 280 281 282 283 284 285 286 287 288 289 290 291 292 293 294 295 296 297 298 299 300 301 302 303 304 305 306 307 308 309 310 311 312 313 314 315 316 317 318 319 320 321 322 323 324 325 326 327 328 329 330 331 332 333 334 335 336 337 338 339 340 341 342 343 344 345 346 347 348 349 350 351 352 353 354 355 356 357 358 359 360 361 362 363 364 365 366 367 368 369 370 371 372 373 374 375 376 377 378 379 380 381 382 383 384 385 386 387 388 389 390 391 392 393 394 395 396 397 398 399 400 401 402 403 404 405 406 407 408 409 410 411 412 413 414 415 416 417 418 419 420 421 422 423 424 425 426 427 428 429 430 431 432 433 434 435 436 437 438 439 440 441 442 443 444 445 446 447 448 449 450 451 452 453 454 455 456 457 458 459 460 461 462 463 464 465 466 467 468 469 470 471 472 473 474 475 476 477 478 479 480 481 482 483 484 485 486 487 488 489 490 491 492 493 494 495 496 497 498 499 500 "
     ]
    }
   ],
   "source": [
    "#d_index = 10000\n",
    "#input_vector = np.array([train['m_bb'][:d_index],train['m_wwbb'][:d_index],train['m_wbb'][:d_index]])\n",
    "input_vector = np.array([train['m_bb'],train['m_wwbb'],train['m_wbb']])\n",
    "#true_vector = np.array(train['signal'][:d_index])\n",
    "true_vector = np.array(train['signal'])\n",
    "\n",
    "all_arr = train_network(input_vector,3,4,true_vector,500)\n",
    "\n"
   ]
  },
  {
   "cell_type": "code",
   "execution_count": 68,
   "metadata": {},
   "outputs": [],
   "source": [
    "def test_network(input_test_vector, weights_trained, bias_trained):\n",
    "    \n",
    "    x_test_list = input_test_vector\n",
    "    z_test_list, act_z_test_list = [], []     \n",
    "    for layer in range(len(weights_trained)):\n",
    "\n",
    "        z_test_list.append((np.dot(weights_trained[layer], x_test_list).transpose() + bias_trained[layer]).transpose())\n",
    "        act_z_test_list.append(act_f(np.dot(weights_trained[layer], x_test_list).transpose() + bias_trained[layer]).transpose())\n",
    "\n",
    "        x_test_list = act_z_test_list[-1]\n",
    "    act_z_test_list.insert(0,np.array(input_test_vector))\n",
    "    \n",
    "    # for 1st two vars :[# var][layer number][node number][data number]            \n",
    "#    return z_test_list, act_z_test_list\n",
    "    return act_z_test_list[-1][0]\n",
    "\n",
    "\n"
   ]
  },
  {
   "cell_type": "code",
   "execution_count": 69,
   "metadata": {},
   "outputs": [],
   "source": [
    "test_vector = np.array([test['m_bb'],test['m_wwbb'],test['m_wbb']])\n",
    "\n",
    "test_output = test_network(test_vector,all_arr[0],all_arr[1])"
   ]
  },
  {
   "cell_type": "code",
   "execution_count": 70,
   "metadata": {},
   "outputs": [
    {
     "data": {
      "image/png": "[encoded data removed]",
      "text/plain": [
       "<Figure size 432x288 with 1 Axes>"
      ]
     },
     "metadata": {
      "needs_background": "light"
     },
     "output_type": "display_data"
    }
   ],
   "source": [
    "plt.hist(test_output,bins='auto')\n",
    "\n",
    "plt.show()"
   ]
  },
  {
   "cell_type": "code",
   "execution_count": 66,
   "metadata": {},
   "outputs": [
    {
     "data": {
      "image/png": "[encoded data removed]",
      "text/plain": [
       "<Figure size 432x288 with 1 Axes>"
      ]
     },
     "metadata": {
      "needs_background": "light"
     },
     "output_type": "display_data"
    }
   ],
   "source": [
    "plt.hist(test_output,bins='auto')\n",
    "\n",
    "plt.show()"
   ]
  },
  {
   "cell_type": "code",
   "execution_count": null,
   "metadata": {},
   "outputs": [],
   "source": []
  },
  {
   "cell_type": "code",
   "execution_count": null,
   "metadata": {},
   "outputs": [],
   "source": []
  },
  {
   "cell_type": "code",
   "execution_count": null,
   "metadata": {},
   "outputs": [],
   "source": []
  },
  {
   "cell_type": "code",
   "execution_count": null,
   "metadata": {},
   "outputs": [],
   "source": []
  }
 ],
 "metadata": {
  "kernelspec": {
   "display_name": "Python 3",
   "language": "python",
   "name": "python3"
  },
  "language_info": {
   "codemirror_mode": {
    "name": "ipython",
    "version": 3
   },
   "file_extension": ".py",
   "mimetype": "text/x-python",
   "name": "python",
   "nbconvert_exporter": "python",
   "pygments_lexer": "ipython3",
   "version": "3.6.2"
  }
 },
 "nbformat": 4,
 "nbformat_minor": 2
}
